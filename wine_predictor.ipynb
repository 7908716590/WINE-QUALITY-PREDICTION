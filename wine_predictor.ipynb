{
 "cells": [
  {
   "cell_type": "code",
   "execution_count": null,
   "id": "8a1f628a-52c4-44ef-ae09-cd93318c4da5",
   "metadata": {},
   "outputs": [],
   "source": [
    "import pandas as pd \n",
    "import numpy as np \n",
    "import seaborn as sns\n",
    "import matplotlib.pyplot as plt\n",
    "\n",
    "from sklearn.preprocessing import LabelEncoder\n",
    "from sklearn.preprocessing import StandardScaler\n",
    "from sklearn.model_selection import train_test_split\n",
    "from sklearn.ensemble import RandomForestRegressor\n",
    "from sklearn.metrics import classification_report, accuracy_score, r2_score, mean_squared_error\n",
    "\n",
    "import warnings\n",
    "warnings.filterwarnings('ignore')"
   ]
  },
  {
   "cell_type": "code",
   "execution_count": null,
   "id": "b7675833-494b-44dd-b4b3-20066b1afe81",
   "metadata": {},
   "outputs": [],
   "source": [
    "df = pd.read_csv('WineQT.csv')"
   ]
  },
  {
   "cell_type": "code",
   "execution_count": null,
   "id": "a3af1954-da5e-4d0a-8592-8226566ac89d",
   "metadata": {},
   "outputs": [],
   "source": [
    "df.sample(10)"
   ]
  },
  {
   "cell_type": "code",
   "execution_count": null,
   "id": "dc94337f-0562-4e49-a30e-0bdfba72b286",
   "metadata": {},
   "outputs": [],
   "source": [
    "df.info()"
   ]
  },
  {
   "cell_type": "code",
   "execution_count": null,
   "id": "b438eddb-23e4-405e-82c4-ce8bdbb0012e",
   "metadata": {},
   "outputs": [],
   "source": [
    "# Check correlation between numerical features\n",
    "plt.figure(figsize=(15, 10))\n",
    "sns.heatmap(df.corr(), annot=True, fmt='.2f', cmap='coolwarm')\n",
    "plt.show()"
   ]
  },
  {
   "cell_type": "code",
   "execution_count": null,
   "id": "ea669063-005f-441b-8334-b2eb9023d20b",
   "metadata": {},
   "outputs": [],
   "source": [
    "X = df.drop(columns=['quality'])\n",
    "y = df['quality']"
   ]
  },
  {
   "cell_type": "code",
   "execution_count": null,
   "id": "8108f20e-609c-4781-90a2-6ab5b224fc0b",
   "metadata": {},
   "outputs": [],
   "source": [
    "X_train,X_test,y_train, y_test= train_test_split(X,y,test_size=0.2,random_state=42)"
   ]
  },
  {
   "cell_type": "code",
   "execution_count": null,
   "id": "3a48fe09-f5f6-4b34-a432-78ec2920147d",
   "metadata": {},
   "outputs": [],
   "source": [
    "rf = RandomForestRegressor(n_estimators=100, random_state=42)\n",
    "rf.fit(X_train,y_train)"
   ]
  },
  {
   "cell_type": "code",
   "execution_count": null,
   "id": "0e216afb-a466-4483-989a-ec624dbe1e19",
   "metadata": {},
   "outputs": [],
   "source": [
    "y_pred = rf.predict(X_test) "
   ]
  },
  {
   "cell_type": "code",
   "execution_count": null,
   "id": "d89131c0-0d4a-417b-8b8d-f0b4f9238a32",
   "metadata": {},
   "outputs": [],
   "source": [
    "print('MSE:',mean_squared_error(y_test,y_pred))\n",
    "print('R2 score:',r2_score(y_test,y_pred))"
   ]
  },
  {
   "cell_type": "code",
   "execution_count": null,
   "id": "b306c444-4922-4906-bcf1-48e698c15732",
   "metadata": {},
   "outputs": [],
   "source": [
    "rf_parameters = RandomForestRegressor( \n",
    "    n_estimators=100,                  # Number of trees in the forest\n",
    "    criterion='squared_error',          # Function to measure the quality of a split (mean squared error for regression)\n",
    "    max_depth=None,                    # Maximum depth of the tree\n",
    "    min_samples_split=2,               # Minimum number of samples required to split an internal node\n",
    "    min_samples_leaf=1,                # Minimum number of samples required to be at a leaf node\n",
    "    min_weight_fraction_leaf=0.0,      # Minimum weighted fraction of the sum total of weights required to be at a leaf node\n",
    "    max_features=\"sqrt\",               # Number of features to consider when looking for the best split\n",
    "    max_leaf_nodes=None,               # Grow trees with max_leaf_nodes in best-first fashion\n",
    "    min_impurity_decrease=0.0,         # A node will be split if this split induces a decrease of the impurity greater than or equal to this value\n",
    "    bootstrap=True,                    # Whether bootstrap samples are used when building trees\n",
    "    oob_score=False,                   # Whether to use out-of-bag samples to estimate the generalization accuracy\n",
    "    n_jobs=None,                       # Number of jobs to run in parallel for both fit and predict\n",
    "    random_state=42,                   # Seed used by the random number generator\n",
    "    verbose=0,                         # Controls the verbosity when fitting and predicting\n",
    "    warm_start=False,                  # When set to True, reuse the solution of the previous call to fit and add more estimators to the ensemble\n",
    "    ccp_alpha=0.0                      # Complexity parameter used for Minimal Cost-Complexity Pruning\n",
    ")\n",
    "\n",
    "rf_parameters.fit(X_train, y_train)"
   ]
  },
  {
   "cell_type": "code",
   "execution_count": null,
   "id": "895290fd-2c4a-42ab-8f03-ddd5a5b709b6",
   "metadata": {},
   "outputs": [],
   "source": [
    "y_pred = rf_parameters.predict(X_test)  "
   ]
  },
  {
   "cell_type": "code",
   "execution_count": null,
   "id": "62ad0518-9b75-4261-8499-22511d84e114",
   "metadata": {},
   "outputs": [],
   "source": [
    "print(\"Mean Squared Error:\", mean_squared_error(y_test, y_pred))\n",
    "print(\"R^2 Score:\", r2_score(y_test, y_pred))  "
   ]
  },
  {
   "cell_type": "code",
   "execution_count": null,
   "id": "003f9de9-b3dd-47d2-98a2-168f13b28784",
   "metadata": {},
   "outputs": [],
   "source": [
    "importances = rf.feature_importances_"
   ]
  },
  {
   "cell_type": "code",
   "execution_count": null,
   "id": "49db5e0e-6046-4dea-b752-260379ae9074",
   "metadata": {},
   "outputs": [],
   "source": [
    "feature_names = X_train.columns  \n",
    "importances_df = pd.DataFrame({\n",
    "    'Feature': feature_names,\n",
    "    'Importance': importances\n",
    "}).sort_values(by='Importance', ascending=False)\n",
    "\n",
    "  \n",
    "print(importances_df)"
   ]
  },
  {
   "cell_type": "code",
   "execution_count": null,
   "id": "ccf31144-dbf4-4864-a3c8-0d3129fce29c",
   "metadata": {},
   "outputs": [],
   "source": [
    "plt.figure(figsize=(12, 8))\n",
    "sns.barplot(x='Importance', y='Feature', data=importances_df)\n",
    "plt.title('Feature Importances')\n",
    "plt.xlabel('Importance')\n",
    "plt.ylabel('Feature') \n",
    "plt.show() "
   ]
  },
  {
   "cell_type": "code",
   "execution_count": null,
   "id": "82bf29b7-e2c0-4dd6-b2a0-2db2264b69c1",
   "metadata": {},
   "outputs": [],
   "source": []
  }
 ],
 "metadata": {
  "kernelspec": {
   "display_name": "Python 3 (ipykernel)",
   "language": "python",
   "name": "python3"
  },
  "language_info": {
   "codemirror_mode": {
    "name": "ipython",
    "version": 3
   },
   "file_extension": ".py",
   "mimetype": "text/x-python",
   "name": "python",
   "nbconvert_exporter": "python",
   "pygments_lexer": "ipython3",
   "version": "3.12.4"
  }
 },
 "nbformat": 4,
 "nbformat_minor": 5
}
